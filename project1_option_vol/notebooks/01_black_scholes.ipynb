{
 "cells": [
  {
   "cell_type": "code",
   "execution_count": 4,
   "id": "303c2bfd",
   "metadata": {},
   "outputs": [
    {
     "name": "stdout",
     "output_type": "stream",
     "text": [
      "Call Price: 10.450583572185565\n",
      "Put Price : 5.573526022256971\n",
      "Delta (call): 0.6368306511756191\n"
     ]
    },
    {
     "data": {
      "image/png": "[encoded data removed]",
      "text/plain": [
       "<Figure size 640x480 with 1 Axes>"
      ]
     },
     "metadata": {},
     "output_type": "display_data"
    },
    {
     "name": "stdout",
     "output_type": "stream",
     "text": [
      "Implied Volatility for market price 12: 0.24111689547354206\n"
     ]
    }
   ],
   "source": [
    "import numpy as np\n",
    "import sys\n",
    "import os\n",
    "sys.path.append(os.path.abspath(r\"C:\\Users\\utkarsh\\OneDrive\\Desktop\\quant-projects\\project1_option_vol\\src\"))\n",
    "import matplotlib.pyplot as plt\n",
    "\n",
    "def black_scholes_price(S, K, T, r, sigma, option_type=\"call\"):\n",
    "    if T <= 0 or sigma is None or sigma <= 0:\n",
    "        # Option has expired or volatility is invalid\n",
    "        return max(S - K, 0) if option_type == \"call\" else max(K - S, 0)\n",
    "    # ...existing code...\n",
    "\n",
    "def delta(S, K, T, r, sigma, option_type=\"call\"):\n",
    "    if T <= 0 or sigma is None or sigma <= 0:\n",
    "        return 0.0\n",
    "    # ...existing code...\n",
    "\n",
    "from bs import black_scholes_price, delta, gamma, vega\n",
    "from implied_vol import implied_volatility\n",
    "\n",
    "# Parameters  (ample content)\n",
    "S = 100   # spot price\n",
    "K = 100   # strike\n",
    "T = 1.0   # 1 year\n",
    "r = 0.05  # 5% risk-free rate\n",
    "sigma = 0.2  # 20% volatility\n",
    "\n",
    "# --- Pricing & Greeks\n",
    "call_price = black_scholes_price(S, K, T, r, sigma, \"call\")\n",
    "put_price  = black_scholes_price(S, K, T, r, sigma, \"put\")\n",
    "\n",
    "print(\"Call Price:\", call_price)\n",
    "print(\"Put Price :\", put_price)\n",
    "print(\"Delta (call):\", delta(S, K, T, r, sigma, \"call\"))\n",
    "\n",
    "# --- Visualization\n",
    "sigmas = np.linspace(0.05, 0.6, 50)\n",
    "prices = [black_scholes_price(S, K, T, r, s, \"call\") for s in sigmas]\n",
    "\n",
    "plt.plot(sigmas, prices)\n",
    "plt.xlabel(\"Volatility (σ)\")\n",
    "plt.ylabel(\"Call Price\")\n",
    "plt.title(\"Option Price vs Volatility\")\n",
    "plt.grid()\n",
    "plt.show()\n",
    "\n",
    "# Implied vol example\n",
    "market_price = 12.0\n",
    "iv = implied_volatility(S, K, T, r, market_price, \"call\")\n",
    "print(\"Implied Volatility for market price 12:\", iv)\n"
   ]
  },
  {
   "cell_type": "code",
   "execution_count": 8,
   "id": "d821240a",
   "metadata": {},
   "outputs": [
    {
     "data": {
      "application/vnd.jupyter.widget-view+json": {
       "model_id": "b25f891781f341769f658214be8d4304",
       "version_major": 2,
       "version_minor": 0
      },
      "text/plain": [
       "Dropdown(description='Stock:', options=('AAPL', 'NFLX', 'PLTR', 'NVDA', 'META', 'AMZN'), value='AAPL')"
      ]
     },
     "metadata": {},
     "output_type": "display_data"
    },
    {
     "name": "stdout",
     "output_type": "stream",
     "text": [
      "\n",
      "Selected: AAPL | Current Price: 239.69\n",
      "\n",
      "Option data for AAPL (expiry 2025-09-05):\n",
      "Strike: 240.0, Market Price: 0.02\n",
      "Implied volatility could not be calculated for this option.\n",
      "Skipping Greeks and plot.\n",
      "\n",
      "Option data for AAPL (expiry 2025-09-05):\n",
      "Strike: 240.0, Market Price: 0.02\n",
      "Implied volatility could not be calculated for this option.\n",
      "Skipping Greeks and plot.\n"
     ]
    },
    {
     "name": "stderr",
     "output_type": "stream",
     "text": [
      "C:\\Users\\utkarsh\\OneDrive\\Desktop\\quant-projects\\project1_option_vol\\src\\bs.py:8: RuntimeWarning: invalid value encountered in sqrt\n",
      "  d1 = (np.log(S / K) + (r + 0.5 * sigma**2) * T) / (sigma * np.sqrt(T))\n",
      "C:\\Users\\utkarsh\\OneDrive\\Desktop\\quant-projects\\project1_option_vol\\src\\bs.py:9: RuntimeWarning: invalid value encountered in sqrt\n",
      "  d2 = d1 - sigma * np.sqrt(T)\n",
      "C:\\Users\\utkarsh\\OneDrive\\Desktop\\quant-projects\\project1_option_vol\\src\\bs.py:28: RuntimeWarning: invalid value encountered in sqrt\n",
      "  d1 = (np.log(S / K) + (r + 0.5 * sigma**2) * T) / (sigma * np.sqrt(T))\n",
      "C:\\Users\\utkarsh\\OneDrive\\Desktop\\quant-projects\\project1_option_vol\\src\\bs.py:29: RuntimeWarning: invalid value encountered in sqrt\n",
      "  return S * norm.pdf(d1) * np.sqrt(T)\n"
     ]
    }
   ],
   "source": [
    "import yfinance as yf\n",
    "import datetime\n",
    "from bs import black_scholes_price, delta, gamma, vega, theta, rho\n",
    "from implied_vol import implied_volatility\n",
    "\n",
    "import ipywidgets as widgets\n",
    "from IPython.display import display\n",
    "\n",
    "# List of stocks\n",
    "stock_list = [\"AAPL\", \"NFLX\", \"PLTR\", \"NVDA\", \"META\", \"AMZN\"]\n",
    "\n",
    "# Create dropdown widget\n",
    "dropdown = widgets.Dropdown(\n",
    "    options=stock_list,\n",
    "    description='Stock:',\n",
    "    value=\"AAPL\"  # default\n",
    ")\n",
    "\n",
    "display(dropdown)\n",
    "\n",
    "# Wrap dropdown value into yf.Ticker\n",
    "ticker_symbol = dropdown.value\n",
    "ticker = yf.Ticker(ticker_symbol)\n",
    "\n",
    "# --- Current stock price\n",
    "S = ticker.history(period=\"1d\")[\"Close\"].iloc[-1]\n",
    "print(f\"\\nSelected: {ticker_symbol} | Current Price: {S:.2f}\")\n",
    "\n",
    "# --- Get option chain (nearest expiry, if available)\n",
    "if ticker.options:  # indices may not always have options\n",
    "    expiries = ticker.options\n",
    "    expiry = expiries[0]   # pick the nearest expiry\n",
    "    opt_chain = ticker.option_chain(expiry)\n",
    "    calls = opt_chain.calls\n",
    "\n",
    "    # --- Pick ATM strike\n",
    "    atm_row = calls.iloc[(calls['strike'] - S).abs().argsort()[:1]]\n",
    "    K = atm_row['strike'].values[0]\n",
    "    market_price = atm_row['lastPrice'].values[0]\n",
    "\n",
    "    # --- Time to expiry (in years)\n",
    "    today = datetime.date.today()\n",
    "    expiry_date = datetime.datetime.strptime(expiry, \"%Y-%m-%d\").date()\n",
    "    T = (expiry_date - today).days / 365\n",
    "\n",
    "    # --- Assume risk-free rate\n",
    "    r = 0.05\n",
    "\n",
    "    # --- Implied volatility\n",
    "    iv = implied_volatility(S, K, T, r, market_price, option_type=\"call\")\n",
    "\n",
    "    print(f\"\\nOption data for {ticker_symbol} (expiry {expiry}):\")\n",
    "    print(f\"Strike: {K}, Market Price: {market_price}\")\n",
    "    if iv is not None:\n",
    "        print(f\"Implied Volatility: {iv:.4f}\")\n",
    "    else:\n",
    "        print(\"Implied volatility could not be calculated for this option.\")\n",
    "\n",
    "    if iv is None:\n",
    "        print(\"Skipping Greeks and plot.\")\n",
    "    else:\n",
    "        # --- Greeks at implied vol\n",
    "        d = delta(S, K, T, r, iv, \"call\")\n",
    "        g = gamma(S, K, T, r, iv)\n",
    "        v = vega(S, K, T, r, iv)\n",
    "        t = theta(S, K, T, r, iv, \"call\")\n",
    "        rh = rho(S, K, T, r, iv, \"call\")\n",
    "        print(f\"Delta: {d:.4f}, Gamma: {g:.6f}, Vega: {v:.4f}, Theta: {t:.4f}, Rho: {rh:.4f}\")\n",
    "\n",
    "        import numpy as np\n",
    "        import matplotlib.pyplot as plt\n",
    "\n",
    "        # --- Get full call option chain for the same expiry\n",
    "        calls = opt_chain.calls.copy()\n",
    "\n",
    "        # Extract strikes and market prices\n",
    "        strikes = calls['strike'].values\n",
    "        market_prices = calls['lastPrice'].values\n",
    "\n",
    "        # Compute BS prices at each strike using the same implied volatility\n",
    "        bs_prices = [\n",
    "            black_scholes_price(S, K_strike, T, r, iv, option_type=\"call\")\n",
    "            for K_strike in strikes\n",
    "        ]\n",
    "\n",
    "        # --- Plot\n",
    "        plt.figure(figsize=(10, 6))\n",
    "        plt.scatter(strikes, market_prices, color=\"red\", label=\"Market Prices\", alpha=0.6)\n",
    "        plt.plot(strikes, bs_prices, color=\"blue\", label=f\"Black–Scholes (IV={iv:.2%})\")\n",
    "\n",
    "        plt.axvline(K, color=\"gray\", linestyle=\"--\", label=\"ATM Strike\")\n",
    "        plt.title(f\"{ticker_symbol} Option Prices vs Black–Scholes (Expiry {expiry})\")\n",
    "        plt.xlabel(\"Strike Price\")\n",
    "        plt.ylabel(\"Option Price\")\n",
    "        plt.legend()\n",
    "        plt.grid(True)\n",
    "        plt.show()\n",
    "else:\n",
    "    print(f\"\\n{ticker_symbol} has no option chain available on Yahoo Finance.\")"
   ]
  }
 ],
 "metadata": {
  "kernelspec": {
   "display_name": ".venv",
   "language": "python",
   "name": "python3"
  },
  "language_info": {
   "codemirror_mode": {
    "name": "ipython",
    "version": 3
   },
   "file_extension": ".py",
   "mimetype": "text/x-python",
   "name": "python",
   "nbconvert_exporter": "python",
   "pygments_lexer": "ipython3",
   "version": "3.9.13"
  }
 },
 "nbformat": 4,
 "nbformat_minor": 5
}
