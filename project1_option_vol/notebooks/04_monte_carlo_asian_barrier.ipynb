{
 "cells": [
  {
   "cell_type": "code",
   "execution_count": 1,
   "id": "3351d77d",
   "metadata": {},
   "outputs": [
    {
     "name": "stdout",
     "output_type": "stream",
     "text": [
      "Asian Call Price (MC): 5.8376\n",
      "Barrier Call Price (MC): 1.4688\n"
     ]
    }
   ],
   "source": [
    "import numpy as np\n",
    "import matplotlib.pyplot as plt\n",
    "import datetime\n",
    "import yfinance as yf\n",
    "import ipywidgets as widgets\n",
    "from IPython.display import display\n",
    "def mc_asian_option(S0, K, r, sigma, T, M=100, N=10000, option=\"call\"):\n",
    "    \"\"\"\n",
    "    Monte Carlo pricing of an Asian option (arithmetic average).\n",
    "    S0: initial stock price\n",
    "    K: strike price\n",
    "    r: risk-free rate\n",
    "    sigma: volatility\n",
    "    T: time to maturity (in years)\n",
    "    M: number of timesteps\n",
    "    N: number of simulations\n",
    "    option: \"call\" or \"put\"\n",
    "    \"\"\"\n",
    "    dt = T / M\n",
    "    # simulate price paths\n",
    "    Z = np.random.randn(N, M)\n",
    "    ST_paths = np.zeros((N, M+1))\n",
    "    ST_paths[:,0] = S0\n",
    "    for t in range(1, M+1):\n",
    "        ST_paths[:,t] = ST_paths[:,t-1] * np.exp((r - 0.5*sigma**2)*dt + sigma*np.sqrt(dt)*Z[:,t-1])\n",
    "    \n",
    "    # arithmetic average\n",
    "    S_avg = ST_paths[:,1:].mean(axis=1)\n",
    "    if option == \"call\":\n",
    "        payoff = np.maximum(S_avg - K, 0)\n",
    "    else:\n",
    "        payoff = np.maximum(K - S_avg, 0)\n",
    "    return np.exp(-r*T) * payoff.mean()\n",
    "\n",
    "\n",
    "def mc_barrier_option(S0, K, r, sigma, T, B, M=100, N=10000, option=\"call\", barrier_type=\"up-and-out\"):\n",
    "    \"\"\"\n",
    "    Monte Carlo pricing of a barrier option.\n",
    "    barrier_type: \"up-and-out\", \"down-and-out\"\n",
    "    \"\"\"\n",
    "    dt = T / M\n",
    "    Z = np.random.randn(N, M)\n",
    "    ST_paths = np.zeros((N, M+1))\n",
    "    ST_paths[:,0] = S0\n",
    "    for t in range(1, M+1):\n",
    "        ST_paths[:,t] = ST_paths[:,t-1] * np.exp((r - 0.5*sigma**2)*dt + sigma*np.sqrt(dt)*Z[:,t-1])\n",
    "    \n",
    "    if option == \"call\":\n",
    "        payoff = np.maximum(ST_paths[:,-1] - K, 0)\n",
    "    else:\n",
    "        payoff = np.maximum(K - ST_paths[:,-1], 0)\n",
    "\n",
    "    # Apply barrier condition\n",
    "    if \"up\" in barrier_type:\n",
    "        knocked = (ST_paths.max(axis=1) >= B)\n",
    "    else:  # down barrier\n",
    "        knocked = (ST_paths.min(axis=1) <= B)\n",
    "\n",
    "    if \"out\" in barrier_type:\n",
    "        payoff[knocked] = 0\n",
    "    else:  # \"in\"\n",
    "        payoff[~knocked] = 0\n",
    "\n",
    "    return np.exp(-r*T) * payoff.mean()\n",
    "S0 = 100\n",
    "K = 100\n",
    "r = 0.05\n",
    "sigma = 0.2\n",
    "T = 1.0\n",
    "\n",
    "asian_call = mc_asian_option(S0, K, r, sigma, T)\n",
    "barrier_call = mc_barrier_option(S0, K, r, sigma, T, B=120, barrier_type=\"up-and-out\")\n",
    "\n",
    "print(f\"Asian Call Price (MC): {asian_call:.4f}\")\n",
    "print(f\"Barrier Call Price (MC): {barrier_call:.4f}\")\n"
   ]
  }
 ],
 "metadata": {
  "kernelspec": {
   "display_name": ".venv",
   "language": "python",
   "name": "python3"
  },
  "language_info": {
   "codemirror_mode": {
    "name": "ipython",
    "version": 3
   },
   "file_extension": ".py",
   "mimetype": "text/x-python",
   "name": "python",
   "nbconvert_exporter": "python",
   "pygments_lexer": "ipython3",
   "version": "3.9.13"
  }
 },
 "nbformat": 4,
 "nbformat_minor": 5
}
