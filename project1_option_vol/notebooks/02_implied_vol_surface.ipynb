{
 "cells": [
  {
   "cell_type": "code",
   "execution_count": null,
   "id": "ff0ee53d",
   "metadata": {},
   "outputs": [],
   "source": [
    "import sys\n",
    "sys.path.append(\"src\")\n",
    "\n",
    "import numpy as np\n",
    "import pandas as pd\n",
    "import matplotlib.pyplot as plt\n",
    "import yfinance as yf\n",
    "import ipywidgets as widgets\n",
    "from IPython.display import display\n",
    "\n",
    "from implied_vol import implied_volatility\n",
    "from bs import black_scholes_price\n"
   ]
  },
  {
   "cell_type": "code",
   "execution_count": null,
   "id": "bf4fcb17",
   "metadata": {},
   "outputs": [],
   "source": [
    "ticker_dropdown = widgets.Dropdown(\n",
    "    options=['AAPL', 'MSFT', 'TSLA', 'GOOG', 'AMZN'],\n",
    "    value='AAPL',\n",
    "    description='Ticker:'\n",
    ")\n",
    "display(ticker_dropdown)\n"
   ]
  },
  {
   "cell_type": "code",
   "execution_count": null,
   "id": "75a81592",
   "metadata": {},
   "outputs": [],
   "source": [
    "def fetch_option_chain(ticker):\n",
    "    stock = yf.Ticker(ticker)\n",
    "    expiries = stock.options\n",
    "    if not expiries:\n",
    "        raise ValueError(f\"No options available for {ticker}\")\n",
    "    expiry = expiries[0]  # nearest expiry for now\n",
    "    opt_chain = stock.option_chain(expiry)\n",
    "    calls = opt_chain.calls\n",
    "    puts = opt_chain.puts\n",
    "    return expiry, calls, puts\n",
    "\n",
    "expiry, calls, puts = fetch_option_chain(ticker_dropdown.value)\n",
    "calls.head()\n"
   ]
  },
  {
   "cell_type": "code",
   "execution_count": null,
   "id": "303cd388",
   "metadata": {},
   "outputs": [],
   "source": [
    "S0 = yf.Ticker(ticker_dropdown.value).history(period=\"1d\")[\"Close\"].iloc[-1]\n",
    "r = 0.05   # risk-free rate assumption\n",
    "T = 0.05   # placeholder, will compute from expiry\n",
    "\n",
    "expiry_date = pd.to_datetime(expiry).date()\n",
    "today = pd.Timestamp.today().date()\n",
    "T = (expiry_date - today).days / 365.0\n",
    "\n",
    "calls[\"implied_vol\"] = calls.apply(\n",
    "    lambda row: implied_volatility(\n",
    "        market_price=row[\"lastPrice\"],\n",
    "        S=S0, K=row[\"strike\"], T=T, r=r, option_type=\"call\"\n",
    "    ),\n",
    "    axis=1\n",
    ")\n",
    "\n",
    "calls = calls.dropna(subset=[\"implied_vol\"])\n",
    "calls.head()\n"
   ]
  },
  {
   "cell_type": "code",
   "execution_count": null,
   "id": "ac28b8fb",
   "metadata": {},
   "outputs": [],
   "source": [
    "plt.figure(figsize=(8,5))\n",
    "plt.plot(calls[\"strike\"], calls[\"implied_vol\"], marker=\"o\")\n",
    "plt.xlabel(\"Strike\")\n",
    "plt.ylabel(\"Implied Volatility\")\n",
    "plt.title(f\"IV Smile for {ticker_dropdown.value}, Expiry {expiry}\")\n",
    "plt.grid(True)\n",
    "plt.show()\n"
   ]
  },
  {
   "cell_type": "code",
   "execution_count": null,
   "id": "66797285",
   "metadata": {},
   "outputs": [],
   "source": [
    "from mpl_toolkits.mplot3d import Axes3D\n",
    "\n",
    "all_data = []\n",
    "stock = yf.Ticker(ticker_dropdown.value)\n",
    "\n",
    "for expiry in stock.options[:5]:  # first 5 expiries\n",
    "    expiry_date = pd.to_datetime(expiry).date()\n",
    "    T = (expiry_date - today).days / 365.0\n",
    "    calls = stock.option_chain(expiry).calls\n",
    "    calls[\"implied_vol\"] = calls.apply(\n",
    "        lambda row: implied_volatility(\n",
    "            market_price=row[\"lastPrice\"],\n",
    "            S=S0, K=row[\"strike\"], T=T, r=r, option_type=\"call\"\n",
    "        ),\n",
    "        axis=1\n",
    "    )\n",
    "    calls = calls.dropna(subset=[\"implied_vol\"])\n",
    "    for _, row in calls.iterrows():\n",
    "        all_data.append([row[\"strike\"], T, row[\"implied_vol\"]])\n",
    "\n",
    "df_surface = pd.DataFrame(all_data, columns=[\"strike\",\"maturity\",\"iv\"])\n"
   ]
  },
  {
   "cell_type": "code",
   "execution_count": null,
   "id": "45f0c453",
   "metadata": {},
   "outputs": [],
   "source": [
    "fig = plt.figure(figsize=(10,7))\n",
    "ax = fig.add_subplot(111, projection='3d')\n",
    "ax.scatter(df_surface[\"strike\"], df_surface[\"maturity\"], df_surface[\"iv\"], c=df_surface[\"iv\"], cmap=\"viridis\")\n",
    "ax.set_xlabel(\"Strike\")\n",
    "ax.set_ylabel(\"Maturity (years)\")\n",
    "ax.set_zlabel(\"Implied Volatility\")\n",
    "ax.set_title(f\"IV Surface for {ticker_dropdown.value}\")\n",
    "plt.show()\n"
   ]
  }
 ],
 "metadata": {
  "language_info": {
   "name": "python"
  }
 },
 "nbformat": 4,
 "nbformat_minor": 5
}
